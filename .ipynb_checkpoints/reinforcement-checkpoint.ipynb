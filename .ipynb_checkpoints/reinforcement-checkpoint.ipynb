{
 "cells": [
  {
   "cell_type": "code",
   "execution_count": 157,
   "id": "e66a03f5",
   "metadata": {},
   "outputs": [],
   "source": [
    "import numpy as np"
   ]
  },
  {
   "cell_type": "code",
   "execution_count": 158,
   "id": "d6506a6e",
   "metadata": {},
   "outputs": [],
   "source": [
    "state_to_index={'A':0,'B':1,'C':2,'D':3,'E':4}\n",
    "index_to_state={0:'A',1:'B',2:'C',3:'D',4:'E'}"
   ]
  },
  {
   "cell_type": "code",
   "execution_count": 159,
   "id": "f4e9aa83",
   "metadata": {},
   "outputs": [],
   "source": [
    "reward_matrix=np.array([\n",
    "    [0,1,0,0,0],\n",
    "    [1,0,1,0,0],\n",
    "    [0,1,0,1,0],\n",
    "    [0,0,1,0,1],\n",
    "    [0,0,0,1,0]\n",
    "])"
   ]
  },
  {
   "cell_type": "code",
   "execution_count": 160,
   "id": "32787be5",
   "metadata": {},
   "outputs": [],
   "source": [
    "gamma=0.95\n",
    "alpha=0.1"
   ]
  },
  {
   "cell_type": "code",
   "execution_count": 161,
   "id": "1c145715",
   "metadata": {},
   "outputs": [],
   "source": [
    "state_size=len(state_to_index)\n",
    "action_size=state_size\n",
    "q_matrix=np.zeros([state_size,action_size])\n"
   ]
  },
  {
   "cell_type": "code",
   "execution_count": 162,
   "id": "18e38473",
   "metadata": {},
   "outputs": [],
   "source": [
    "def q_learning(s,a,reward,s2,q_matrix):\n",
    "    q_matrix[s,a]=(1-alpha)*q_matrix[s,a]+alpha*(reward+gamma*np.max(q_matrix[s2,:]))\n",
    "    s=s2\n",
    "    return s,q_matrix"
   ]
  },
  {
   "cell_type": "code",
   "execution_count": 163,
   "id": "5a79ee4c",
   "metadata": {},
   "outputs": [],
   "source": [
    "def get_action(state,q_matrix,epsilon=0.1):\n",
    "    if np.random.random() < epsilon:\n",
    "        return np.random.choice(action_size)\n",
    "    return np.argmax(q_matrix[state, :])"
   ]
  },
  {
   "cell_type": "code",
   "execution_count": 166,
   "id": "c8cb07e9",
   "metadata": {},
   "outputs": [],
   "source": [
    "\n",
    "def find_optimal_route(initial_state, goal_state, q_matrix, episode=1000):\n",
    "    for _ in range(episode):\n",
    "        state = initial_state\n",
    "        while state != goal_state:\n",
    "            action = get_action(state, q_matrix)\n",
    "            next_state = action\n",
    "            reward = reward_matrix[state, action]\n",
    "            state,q_matrix = q_learning(state, action, reward, next_state, q_matrix)\n",
    "    return q_matrix"
   ]
  },
  {
   "cell_type": "code",
   "execution_count": 167,
   "id": "1b238f16",
   "metadata": {},
   "outputs": [],
   "source": [
    "initial_state = state_to_index['A']\n",
    "goal_state = state_to_index['E']\n",
    "  # Initialize the Q-table with zeros\n",
    "q_matrix = find_optimal_route(initial_state, goal_state, q_matrix)\n"
   ]
  },
  {
   "cell_type": "code",
   "execution_count": 168,
   "id": "01b0b8e3",
   "metadata": {},
   "outputs": [
    {
     "name": "stdout",
     "output_type": "stream",
     "text": [
      "[[19.         20.         18.05       18.05        0.        ]\n",
      " [20.         19.         19.05       18.05        0.        ]\n",
      " [19.         18.15642674 16.9918928  13.66566085  0.        ]\n",
      " [19.         15.8313185  16.06754206 15.0347174   0.65132156]\n",
      " [ 0.          0.          0.          0.          0.        ]]\n"
     ]
    }
   ],
   "source": [
    "print(q_matrix)"
   ]
  },
  {
   "cell_type": "code",
   "execution_count": 170,
   "id": "00576467",
   "metadata": {},
   "outputs": [
    {
     "name": "stdout",
     "output_type": "stream",
     "text": [
      "['B', 'A', 'A', 'A', 'A']\n"
     ]
    }
   ],
   "source": [
    "optimal_actions=[np.argmax(q_matrix[state, :]) for state in range(state_size)]\n",
    "optimal_actions=[index_to_state[action] for action in optimal_actions]\n",
    "print(optimal_actions)"
   ]
  },
  {
   "cell_type": "code",
   "execution_count": 172,
   "id": "ad5eea9c",
   "metadata": {},
   "outputs": [
    {
     "name": "stdout",
     "output_type": "stream",
     "text": [
      "Immediate Reward for moving from stateA to stateA:0\n",
      "Immediate Reward for moving from stateA to stateB:1\n",
      "Immediate Reward for moving from stateA to stateC:0\n",
      "Immediate Reward for moving from stateA to stateD:0\n",
      "Immediate Reward for moving from stateA to stateE:0\n",
      "Immediate Reward for moving from stateB to stateA:1\n",
      "Immediate Reward for moving from stateB to stateB:0\n",
      "Immediate Reward for moving from stateB to stateC:1\n",
      "Immediate Reward for moving from stateB to stateD:0\n",
      "Immediate Reward for moving from stateB to stateE:0\n",
      "Immediate Reward for moving from stateC to stateA:0\n",
      "Immediate Reward for moving from stateC to stateB:1\n",
      "Immediate Reward for moving from stateC to stateC:0\n",
      "Immediate Reward for moving from stateC to stateD:1\n",
      "Immediate Reward for moving from stateC to stateE:0\n",
      "Immediate Reward for moving from stateD to stateA:0\n",
      "Immediate Reward for moving from stateD to stateB:0\n",
      "Immediate Reward for moving from stateD to stateC:1\n",
      "Immediate Reward for moving from stateD to stateD:0\n",
      "Immediate Reward for moving from stateD to stateE:1\n",
      "Immediate Reward for moving from stateE to stateA:0\n",
      "Immediate Reward for moving from stateE to stateB:0\n",
      "Immediate Reward for moving from stateE to stateC:0\n",
      "Immediate Reward for moving from stateE to stateD:1\n",
      "Immediate Reward for moving from stateE to stateE:0\n"
     ]
    }
   ],
   "source": [
    "for state in state_to_index:\n",
    "    for action in state_to_index:\n",
    "        state_idx=state_to_index[state]\n",
    "        action_idx=state_to_index[action]\n",
    "        immediate_reward=reward_matrix[state_idx,action_idx]\n",
    "        print(f\"Immediate Reward for moving from state{state} to state{action}:{immediate_reward}\")"
   ]
  },
  {
   "cell_type": "code",
   "execution_count": null,
   "id": "4e2ce1f8",
   "metadata": {},
   "outputs": [],
   "source": []
  }
 ],
 "metadata": {
  "kernelspec": {
   "display_name": "Python 3 (ipykernel)",
   "language": "python",
   "name": "python3"
  },
  "language_info": {
   "codemirror_mode": {
    "name": "ipython",
    "version": 3
   },
   "file_extension": ".py",
   "mimetype": "text/x-python",
   "name": "python",
   "nbconvert_exporter": "python",
   "pygments_lexer": "ipython3",
   "version": "3.9.13"
  }
 },
 "nbformat": 4,
 "nbformat_minor": 5
}
